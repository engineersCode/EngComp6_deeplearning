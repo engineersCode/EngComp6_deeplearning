{
 "cells": [
  {
   "cell_type": "markdown",
   "metadata": {},
   "source": [
    "###### Content under Creative Commons Attribution license CC-BY 4.0, code under BSD 3-Clause License © 2021 Lorena A. Barba, Tingyu Wang"
   ]
  },
  {
   "cell_type": "markdown",
   "metadata": {},
   "source": [
    "# Polynomial Regression\n",
    "\n",
    "In this fourth lesson of the _Engineering Computations_ module on deep learning, we play with a different model-building method: polynomial regression. \n",
    "We already saw one case in which the observational data could not be fit by a line, and that was the classification problem that we tackled with logistic regression (Lesson 3). \n",
    "Now imagine that your data wiggles about on the $x, y$ plane—where $x$ is the independent variable or feature, and $y$ is the dependent variable. \n",
    "You look at it and think: a curvilinear relationship might work. Good idea. \n",
    "\n",
    "It may surprise you to learn that fitting a polynomial to the data is a special case of multiple linear regression. Yes: _linear_. \n",
    "When we talk about linear models, we mean linear with respect to the parameters!"
   ]
  },
  {
   "cell_type": "markdown",
   "metadata": {},
   "source": [
    "## A special case of multiple linear regression\n",
    "\n",
    "Let's generate some synthetic data using a polynomial function of fourth order, $y = x^4 + x^3 - 4x^2 $, with a bit of added noise.\n",
    "\n",
    "As usuall, we start by loading some needed Python libraries and functions, including the useful tools from `autograd` that you've learned about already."
   ]
  },
  {
   "cell_type": "code",
   "execution_count": 1,
   "metadata": {},
   "outputs": [],
   "source": [
    "from matplotlib import pyplot as plt\n",
    "from autograd import grad\n",
    "import autograd.numpy as np"
   ]
  },
  {
   "cell_type": "code",
   "execution_count": 2,
   "metadata": {},
   "outputs": [
    {
     "data": {
      "image/png": "[encoded data removed]",
      "text/plain": [
       "<Figure size 432x288 with 1 Axes>"
      ]
     },
     "metadata": {
      "needs_background": "light"
     },
     "output_type": "display_data"
    }
   ],
   "source": [
    "np.random.seed(0)    # fix seed for reproducibility\n",
    "x = np.linspace(-3, 3, 20)\n",
    "y = x**4 + x**3 - 4*x**2 + 8*np.random.normal(size=len(x))\n",
    "plt.scatter(x, y);"
   ]
  },
  {
   "cell_type": "markdown",
   "metadata": {},
   "source": [
    "Suppose we were only given the data (not the function that generated them), and our goal is to fit a curve to these data. The nonlinear relationship between $x$ and $y$ suggests that a linear regression will fail. Intuitively, using polynomial functions may first come to your mind.\n",
    "\n",
    "Let's write the model as a $d$th-order polynomial on $x$, the only feature:\n",
    "\n",
    "$$\n",
    "\\hat{y} = w_0 + w_1 x + w_2 x^2 + \\cdots + w_d x^d, \n",
    "$$\n",
    "\n",
    "where $w$ denotes the weights. Keep in mind that in the model-fitting context, the objective is always to find the optimal values of these weights given $x$ and $y$. When viewed from a different perspective, the model above is just a linear combination of the weights. In fact, by creating polynomial features of $x$, namely, letting $x_i = x^i$, the model becomes:\n",
    "\n",
    "$$\n",
    "\\hat{y} = w_0 + w_1 x_1 + w_2 x_2 + \\ldots + w_d x_d.\n",
    "$$\n",
    "\n",
    "As you can see, the polynomial regression model is identical to multiple linear regression, with the matrix form being also $\\hat{\\mathbf{y}} = X\\mathbf{w}$, and the only gap is forming the matrix $X$ using the powers of $x$.\n",
    "\n",
    "Suppose we want to fit our data with a 3rd degree polynomial function; let's write a function to create these polynomial features first."
   ]
  },
  {
   "cell_type": "code",
   "execution_count": 3,
   "metadata": {},
   "outputs": [
    {
     "name": "stdout",
     "output_type": "stream",
     "text": [
      "(20, 4)\n"
     ]
    }
   ],
   "source": [
    "degree = 3\n",
    "\n",
    "def polynomial_features(x, degree):\n",
    "    \"\"\" Generate polynomial features for x.\"\"\"\n",
    "    \n",
    "    X = np.empty((len(x), degree+1))\n",
    "    for i in range(degree+1):\n",
    "        X[:,i] = x**i\n",
    "    return X\n",
    "\n",
    "X = polynomial_features(x, degree)\n",
    "print(X.shape)"
   ]
  },
  {
   "cell_type": "markdown",
   "metadata": {},
   "source": [
    "##### Note\n",
    "\n",
    "> Unsurprisingly, **scikit-learn** offers a counterpart: [`PolynomialFeatures()`](https://scikit-learn.org/stable/modules/generated/sklearn.preprocessing.PolynomialFeatures.html).\n",
    "When your original data come with multiple features (e.g., $x_1$ and $x_2$), the polynomial features for regression will involve interaction terms (e.g., $x_1 x_2$ for 2nd-order polynomials).\n",
    "In that case, it is handy to use this function to generate all terms."
   ]
  },
  {
   "cell_type": "markdown",
   "metadata": {},
   "source": [
    "## Scale the data, train the model\n",
    "\n",
    "Recall that for multiple linear regression, we should normalize each feature to the same scale.\n",
    "As in the previous lesson, let's use `MinMaxScaler()` to scale all features to $[0,1]$, except for the first column:\n",
    "$x_0$ is set to 1 for all entries, since $w_0$ represents the intercept."
   ]
  },
  {
   "cell_type": "code",
   "execution_count": 4,
   "metadata": {},
   "outputs": [],
   "source": [
    "from sklearn.preprocessing import MinMaxScaler\n",
    "\n",
    "min_max_scaler = MinMaxScaler()\n",
    "X_scaled = min_max_scaler.fit_transform(X)\n",
    "X_scaled[:,0] = 1   # the column for intercept"
   ]
  },
  {
   "cell_type": "markdown",
   "metadata": {},
   "source": [
    "When scaling the matrix of polynomial features $X$ above, we used:\n",
    "```python\n",
    "X_scaled = min_max_scaler.fit_transform(X)\n",
    "```\n",
    "The function `fit_transform()` is actually a combination of two steps:\n",
    "- [`fit()`](https://scikit-learn.org/stable/modules/generated/sklearn.preprocessing.MinMaxScaler.html#sklearn.preprocessing.MinMaxScaler.fit): compute $x_{\\min}$ and $x_{\\max}$ values for each feature and save the information to the variable `min_max_scaler`. You can access them via `min_max_scaler.data_min_` and `min_max_scaler.data_max_`.\n",
    "- [`transform()`](https://scikit-learn.org/stable/modules/generated/sklearn.preprocessing.MinMaxScaler.html#sklearn.preprocessing.MinMaxScaler.transform) use `min_max_scaler` to scale `X`.\n",
    "\n",
    "This will be helpful to remember a bit later."
   ]
  },
  {
   "cell_type": "markdown",
   "metadata": {},
   "source": [
    "We can reuse the same model and loss function from Lesson 3:"
   ]
  },
  {
   "cell_type": "code",
   "execution_count": 5,
   "metadata": {},
   "outputs": [],
   "source": [
    "def linear_regression(params, X):\n",
    "    '''\n",
    "    The linear regression model in matrix form.\n",
    "    Arguments:\n",
    "      params: 1D array of weights for the linear model\n",
    "      X     : 2D array of input values\n",
    "    Returns:\n",
    "      1D array of predicted values\n",
    "    '''\n",
    "    return np.dot(X, params)\n",
    "\n",
    "def mse_loss(params, model, X, y):\n",
    "    '''\n",
    "    The mean squared error loss function.\n",
    "    Arguments:\n",
    "      params: 1D array of weights for the linear model\n",
    "      model : function for the linear regression model\n",
    "      X     : 2D array of input values\n",
    "      y     : 1D array of predicted values\n",
    "    Returns:\n",
    "      float, mean squared error\n",
    "    '''\n",
    "    y_pred = model(params, X)\n",
    "    return np.mean( np.sum((y-y_pred)**2) )\n",
    "\n",
    "gradient = grad(mse_loss)"
   ]
  },
  {
   "cell_type": "markdown",
   "metadata": {},
   "source": [
    "Remember, \"training\" a model simply means finding the best parameters by minimizing a loss function. \n",
    "We'll choose both a maximum number of iterations in the optimization loop, and an exit criterion based on the norm of the gradient at the current iteration. \n",
    "(If this is quite small, when multiplied by the also-small learning rate, the parameters will change very little.)"
   ]
  },
  {
   "cell_type": "code",
   "execution_count": 6,
   "metadata": {},
   "outputs": [
    {
     "name": "stdout",
     "output_type": "stream",
     "text": [
      "iteration    0, loss = 5434.768, mae = 11.057\n",
      "iteration  100, loss = 1300.477, mae = 6.885\n",
      "iteration  200, loss = 1281.309, mae = 6.864\n",
      "iteration  300, loss = 1272.990, mae = 6.808\n",
      "iteration  400, loss = 1267.448, mae = 6.760\n",
      "iteration  500, loss = 1263.750, mae = 6.722\n",
      "iteration  600, loss = 1261.282, mae = 6.690\n",
      "iteration  700, loss = 1259.636, mae = 6.664\n",
      "iteration  800, loss = 1258.537, mae = 6.643\n",
      "iteration  900, loss = 1257.804, mae = 6.625\n",
      "iteration 1000, loss = 1257.314, mae = 6.611\n",
      "iteration 1100, loss = 1256.988, mae = 6.600\n",
      "iteration 1200, loss = 1256.770, mae = 6.590\n",
      "iteration 1300, loss = 1256.625, mae = 6.583\n",
      "iteration 1400, loss = 1256.528, mae = 6.576\n",
      "iteration 1500, loss = 1256.463, mae = 6.571\n",
      "iteration 1600, loss = 1256.420, mae = 6.567\n",
      "iteration 1700, loss = 1256.391, mae = 6.564\n",
      "iteration 1800, loss = 1256.372, mae = 6.561\n",
      "iteration 1900, loss = 1256.359, mae = 6.558\n",
      "iteration 2000, loss = 1256.350, mae = 6.557\n",
      "iteration 2100, loss = 1256.345, mae = 6.555\n",
      "iteration 2200, loss = 1256.341, mae = 6.554\n",
      "iteration 2300, loss = 1256.338, mae = 6.553\n",
      "iteration 2400, loss = 1256.337, mae = 6.552\n",
      "iteration 2500, loss = 1256.336, mae = 6.551\n",
      "iteration 2600, loss = 1256.335, mae = 6.551\n",
      "iteration 2700, loss = 1256.334, mae = 6.550\n",
      "iteration 2800, loss = 1256.334, mae = 6.550\n",
      "iteration 2900, loss = 1256.334, mae = 6.550\n"
     ]
    }
   ],
   "source": [
    "max_iter = 3000\n",
    "alpha = 0.01\n",
    "params = np.zeros(X_scaled.shape[1])\n",
    "descent = np.ones(X_scaled.shape[1])\n",
    "i = 0\n",
    "\n",
    "from sklearn.metrics import mean_absolute_error\n",
    "\n",
    "while np.linalg.norm(descent) > 0.01 and i < max_iter:\n",
    "    descent = gradient(params, linear_regression, X_scaled, y)\n",
    "    params = params - descent * alpha\n",
    "    loss = mse_loss(params, linear_regression, X_scaled, y)\n",
    "    mae = mean_absolute_error(y, X_scaled@params)\n",
    "    if i%100 == 0:\n",
    "        print(f\"iteration {i:4}, {loss = :.3f}, {mae = :.3f}\")\n",
    "    i += 1"
   ]
  },
  {
   "cell_type": "markdown",
   "metadata": {},
   "source": [
    "Let's print out the weights."
   ]
  },
  {
   "cell_type": "code",
   "execution_count": 7,
   "metadata": {},
   "outputs": [
    {
     "data": {
      "text/plain": [
       "array([-22.51572398,   6.75930601,  41.30788709,  30.0105898 ])"
      ]
     },
     "execution_count": 7,
     "metadata": {},
     "output_type": "execute_result"
    }
   ],
   "source": [
    "params"
   ]
  },
  {
   "cell_type": "markdown",
   "metadata": {},
   "source": [
    "The first term is the intercept, and the rest are the weights of each **scaled** polynomial feature.\n",
    "\n",
    "Although our model has multiple weights, there's only one feature in our original data. \n",
    "Therefore, if we are given new values of $x$ to predict $y$, we need to first create the polynomial features, scale them to $[0,1]$ using the **same scaling function**, and then multiply by the weights. Since we have used the min-max scaling, it is important to use the same $x_{\\min}$ and $x_{\\max}$ of the training data to scale new data.\n",
    "\n",
    "Recall the explanation above for the scaling step. We now only need to call `min_max_scaler.transform()` to scale new data. Such design occurs very often in scikit-learn.\n",
    "\n",
    "With that in mind, let's plot the fitted curve together with the data. We generate some new values of $x$, `xgrid`, and predict $y$ at these locations. Don't forget to repeat the procedure of creating polynomial features and scaling them. Ponder over this code for a moment to wrap your head around it."
   ]
  },
  {
   "cell_type": "code",
   "execution_count": 8,
   "metadata": {},
   "outputs": [
    {
     "data": {
      "image/png": "[encoded data removed]",
      "text/plain": [
       "<Figure size 432x288 with 1 Axes>"
      ]
     },
     "metadata": {
      "needs_background": "light"
     },
     "output_type": "display_data"
    }
   ],
   "source": [
    "xgrid = np.linspace(x.min(), x.max(), 30)\n",
    "Xgrid_poly_feat = polynomial_features(xgrid, degree)\n",
    "Xgrid_scaled = min_max_scaler.transform(Xgrid_poly_feat)\n",
    "Xgrid_scaled[:,0] = 1 \n",
    "plt.scatter(x, y, c='r', label='true')\n",
    "plt.plot(xgrid, Xgrid_scaled@params, label='predicted')\n",
    "plt.legend();"
   ]
  },
  {
   "cell_type": "markdown",
   "metadata": {},
   "source": [
    "## Observe underfitting & overfitting\n",
    "\n",
    "In the model above, we just randomly picked a polynomial degree of $3$ for the fitted curve. Is it good enough to model our dataset? Should we try higher-order polynomials?\n",
    "\n",
    "We can repeat our study with different polynomial degrees varying from $1$ to $15$, and see what happens.\n",
    "To faciliate this task, we provide you with a script to train the model and plot these fitted curves interactively using `ipywidget`.\n",
    "\n",
    "Run the cell below and drag the slider to see how the curve changes."
   ]
  },
  {
   "cell_type": "code",
   "execution_count": 9,
   "metadata": {},
   "outputs": [
    {
     "data": {
      "application/vnd.jupyter.widget-view+json": {
       "model_id": "71f0d094cc19484483274e0b52147109",
       "version_major": 2,
       "version_minor": 0
      },
      "text/plain": [
       "interactive(children=(IntSlider(value=8, description='degree', max=15, min=1), Output()), _dom_classes=('widge…"
      ]
     },
     "metadata": {},
     "output_type": "display_data"
    }
   ],
   "source": [
    "import sys\n",
    "sys.path.append('../scripts/')\n",
    "from plot_helpers import interact_polyreg\n",
    "\n",
    "max_degree = 15\n",
    "interact_polyreg(max_degree, x, y)"
   ]
  },
  {
   "cell_type": "markdown",
   "metadata": {},
   "source": [
    "### Underfitting\n",
    "\n",
    "When `degree` is $1$, the straight line clearly fails to capture the underlying relationship between $x$ and $y$. Specifically, a line is too simple to explain how far the data are spread out, namely, the **variance** in the data. We say that the linear model **underfits** the data in this case.\n",
    "\n",
    "Underfitting happens when the model is too naive or the weights need to be trained with more iterations. It is often easy to detect, since a large training error is a good indicator.\n",
    "\n",
    "##### Challenge question\n",
    "\n",
    "> Would having more training data help resolve underfitting?\n",
    "\n",
    "### Overfitting\n",
    "\n",
    "As we increase the polynomial degree, the training error (MAE from the figure title) keeps decreasing. \n",
    "But does it mean that the 15th-order polynomial gives the best fit?\n",
    "Probably not.\n",
    "\n",
    "Drag the slider to the right, and you will find that the curve passes exactly through many points and looks very odd.\n",
    "If we are given new data, this model may not predict well because it fits too closely to the old data.\n",
    "As real-world data tend to be noisy (due to missing and erroneous values), our synthetic data also have noise added.\n",
    "Models with high polynomial degrees are so flexible that they fit the noise rather than the true relationship! \n",
    "In this case, these models are **overfitting**, or have a **high variance**.\n",
    "Overfitting usually happens when the model is overly complicated.\n",
    "The high-order polynomials in our example have too many degrees of freedom (weights) for our data.\n",
    "\n",
    "##### Challenge question\n",
    "\n",
    "> Would having more training data help resolve overfitting?\n",
    "\n",
    "Compared to underfitting, overfitting is in general harder to detect because the training error tends to be small. We will discuss how to identify overfitting later in this module.\n",
    "Now let's focus on how to prevent overfitting using regularization."
   ]
  },
  {
   "cell_type": "markdown",
   "metadata": {},
   "source": [
    "## Regularization\n",
    "\n",
    "Regularization is used to reduce or avoid overfitting.\n",
    "The idea is to introduce a term in the loss function that penalizes complicated models. In our polynomial regression model:\n",
    "\n",
    "$$\n",
    "\\hat{y} = w_0 + w_1 x + w_2 x^2 + \\cdots + w_d x^d,\n",
    "$$\n",
    "\n",
    "every polynomial term contributes to the overall complexity of the model.\n",
    "One idea is to add constraints to the magnitudes of these weights.\n",
    "\n",
    "A common approach is to add a regularization term $\\lambda\\sum_{j=1}^d w_j^2$ to the mean-squared error loss:\n",
    "\n",
    "$$\n",
    "L(\\mathbf{w})=\\frac{1}{N} {\\lVert \\mathbf{y} - X\\mathbf{w} \\rVert}^2 + \\lambda \\sum_{j=1}^d w_j^2\n",
    "$$\n",
    "\n",
    "This new loss function favors smaller weights, because larger weights will increase the term on the right.\n",
    "As weights are smaller, the model is less likely to overfit by large amplitude higher-order polynomial terms.\n",
    "\n",
    "Notice that we don't penalize the intercept $w_0$ in the regularization term. This can be justified mathematically, but one way to think about it is that a constant term won't affect the overall model complexity.\n",
    "\n",
    "Above, $\\lambda$ denotes the regularization parameter, or the strength of penalty. It controls the tradeoff between fitting the data well (minimizing the first term) and keeping the model simple to avoid overfitting (minimizing the second term). When $\\lambda\\rightarrow 0$, the loss function falls back to standard mean-square error loss. And when $\\lambda$ is large, all penalized weights will be close to 0 after training and our model would approach the constant value $w_0$.\n",
    "\n",
    "##### Note\n",
    "\n",
    "> This regularization is also called $L^2$-penalty, or Tikhonov regularization, while the name _ridge regression_ is also used for this model-building method."
   ]
  },
  {
   "cell_type": "markdown",
   "metadata": {},
   "source": [
    "Let's code the regularized mean-squared error loss and set $\\lambda = 1$."
   ]
  },
  {
   "cell_type": "code",
   "execution_count": 10,
   "metadata": {},
   "outputs": [],
   "source": [
    "def regularized_loss(params, model, X, y, _lambda=1.0):\n",
    "    '''\n",
    "    The mean squared error loss function with an L2 penalty.\n",
    "    Arguments:\n",
    "      params: 1D array of weights for the linear model\n",
    "      model : function for the linear regression model\n",
    "      X     : 2D array of input values\n",
    "      y     : 1D array of predicted values\n",
    "      _lambda: regularization parameter, default 1.0\n",
    "    Returns:\n",
    "      float, regularized mean squared error\n",
    "    '''\n",
    "    y_pred = model(params, X)\n",
    "    return np.mean( np.sum((y-y_pred)**2) ) + _lambda * np.sum( params[1:]**2 )\n",
    "\n",
    "gradient = grad(regularized_loss)                                                        "
   ]
  },
  {
   "cell_type": "code",
   "execution_count": 11,
   "metadata": {},
   "outputs": [],
   "source": [
    "no_regularization_params = params.copy()"
   ]
  },
  {
   "cell_type": "markdown",
   "metadata": {},
   "source": [
    "And train the 3rd-degree polynomial model using gradient descent."
   ]
  },
  {
   "cell_type": "code",
   "execution_count": 12,
   "metadata": {},
   "outputs": [
    {
     "name": "stdout",
     "output_type": "stream",
     "text": [
      "iteration    0, loss = 5434.768, mae = 11.05718775676392\n",
      "iteration  100, loss = 1785.985, mae = 6.983886996350374\n",
      "iteration  200, loss = 1764.260, mae = 6.966518785947395\n",
      "iteration  300, loss = 1763.570, mae = 6.965728405272657\n"
     ]
    }
   ],
   "source": [
    "max_iter = 3000\n",
    "alpha = 0.01\n",
    "params = np.zeros(X_scaled.shape[1])\n",
    "descent = np.ones(X_scaled.shape[1])\n",
    "i = 0\n",
    "\n",
    "from sklearn.metrics import mean_absolute_error\n",
    "\n",
    "while np.linalg.norm(descent) > 0.01 and i < max_iter:\n",
    "    descent = gradient(params, linear_regression, X_scaled, y)\n",
    "    params = params - descent * alpha\n",
    "    loss = mse_loss(params, linear_regression, X_scaled, y)\n",
    "    mae = mean_absolute_error(y, X_scaled@params)\n",
    "    if i%100 == 0:\n",
    "        print(f\"iteration {i:4}, {loss = :.3f}, {mae = }\")\n",
    "    i += 1"
   ]
  },
  {
   "cell_type": "markdown",
   "metadata": {},
   "source": [
    "Let's compare the optimal weights before and after regularization. We can reuse the `xgrid` to plot both curves."
   ]
  },
  {
   "cell_type": "code",
   "execution_count": 13,
   "metadata": {},
   "outputs": [
    {
     "name": "stdout",
     "output_type": "stream",
     "text": [
      "weights without regularization\n",
      "[-22.51572398   6.75930601  41.30788709  30.0105898 ]\n",
      "weights with regularization\n",
      "[-11.13750882  12.48522096  28.26626633  11.09211867]\n"
     ]
    },
    {
     "data": {
      "image/png": "[encoded data removed]",
      "text/plain": [
       "<Figure size 432x288 with 1 Axes>"
      ]
     },
     "metadata": {
      "needs_background": "light"
     },
     "output_type": "display_data"
    }
   ],
   "source": [
    "print(\"weights without regularization\")\n",
    "print(no_regularization_params)\n",
    "print(\"weights with regularization\")\n",
    "print(params)\n",
    "\n",
    "plt.scatter(x, y, c='r', label='true')\n",
    "plt.plot(xgrid, Xgrid_scaled@no_regularization_params, label='w/o regularization')\n",
    "plt.plot(xgrid, Xgrid_scaled@params, label='with regularization')\n",
    "plt.legend();"
   ]
  },
  {
   "cell_type": "markdown",
   "metadata": {},
   "source": [
    "Using our helper script again to display both models with varying polynomial degree in an `ipywidget`, interact with the slider to explore the results. We set `regularized=True` this time."
   ]
  },
  {
   "cell_type": "code",
   "execution_count": 14,
   "metadata": {},
   "outputs": [
    {
     "data": {
      "application/vnd.jupyter.widget-view+json": {
       "model_id": "e0c720ccb75d4994b1bb51d650dd8ab5",
       "version_major": 2,
       "version_minor": 0
      },
      "text/plain": [
       "interactive(children=(IntSlider(value=8, description='degree', max=15, min=1), Output()), _dom_classes=('widge…"
      ]
     },
     "metadata": {},
     "output_type": "display_data"
    }
   ],
   "source": [
    "interact_polyreg(max_degree, x, y, regularized=True)"
   ]
  },
  {
   "cell_type": "markdown",
   "metadata": {},
   "source": [
    "Thanks to the regularization term, you won't see the wiggling curves even with a high degree polynomial, since the magnitude of the weights (the coefficients before each polynomial term) is much smaller."
   ]
  },
  {
   "cell_type": "markdown",
   "metadata": {},
   "source": [
    "## Ridge regression with scikit-learn\n",
    "\n",
    "You won't be surprised by now that **scikit-learn** offers a method to obtain a linear model with regularization: [`Ridge()`](https://scikit-learn.org/stable/modules/generated/sklearn.linear_model.Ridge.html#sklearn.linear_model.Ridge). \n",
    "Look and ponder at the code cell below, where we call `Ridge()` and its `.fit()` method to fit the ridge regression model with our scaled matrix of features (also called the _design matrix_) and the $y$ data.\n",
    "The default value of the penalization parameter of $1.0$, so we don't specify it, but if you wanted to try a different value, you specify it as `alpha=value` in the argument list. Do explore the documentation page."
   ]
  },
  {
   "cell_type": "code",
   "execution_count": 15,
   "metadata": {},
   "outputs": [
    {
     "name": "stdout",
     "output_type": "stream",
     "text": [
      "[12.48291164 28.26642615 11.09583654]\n",
      "-11.138315887456029\n"
     ]
    },
    {
     "data": {
      "image/png": "[encoded data removed]",
      "text/plain": [
       "<Figure size 432x288 with 1 Axes>"
      ]
     },
     "metadata": {
      "needs_background": "light"
     },
     "output_type": "display_data"
    }
   ],
   "source": [
    "from sklearn.linear_model import Ridge\n",
    "\n",
    "model = Ridge().fit(X_scaled[:, 1:], y) # Ridge() by default fits an intercept\n",
    "y_pred_sklearn = model.predict(Xgrid_scaled[:,1:])\n",
    "\n",
    "print(model.coef_)\n",
    "print(model.intercept_)\n",
    "\n",
    "plt.scatter(x, y, c='r', label='true')\n",
    "plt.plot(xgrid, y_pred_sklearn, label='sklearn ridge regression')\n",
    "plt.legend();\n"
   ]
  },
  {
   "cell_type": "markdown",
   "metadata": {},
   "source": [
    "The `model` variable we created above using `Ridge()` stores the model weights and the intercept in the `.coef_` and `intercept_` attributes. \n",
    "Compare the values with those we obtained above using the regularization and 3rd-order polynomial. Pretty close!"
   ]
  },
  {
   "cell_type": "markdown",
   "metadata": {},
   "source": [
    "## What we've learned\n",
    "\n",
    "- Polynomial regression is a special case of multiple linear regression.\n",
    "- Pick too low-order a polynomial (e.g., a line) and the model could _underfit_ the data, giving large residuals (training error).\n",
    "- Pick too high a polynomial order, and you will get _overfitting_, as the model tries to fit the noise in the data resulting in wiggles.\n",
    "- Regularization is used to reduce or avoid overfitting.\n",
    "- Adding the sum-of-squares of the weights to the loss function _penalizes_ large weights and controls overfitting. \n",
    "- Linear regression with this so-called Tikhonov regularization is called _ridge regression_.\n",
    "- With **scikit-learn**, you can use `Ridge()` to fit a linear model with regularization. "
   ]
  },
  {
   "cell_type": "code",
   "execution_count": 16,
   "metadata": {},
   "outputs": [
    {
     "data": {
      "text/html": [
       "<link href=\"https://fonts.googleapis.com/css?family=Merriweather:300,300i,400,400i,700,700i,900,900i\" rel='stylesheet' >\n",
       "<link href=\"https://fonts.googleapis.com/css?family=Source+Sans+Pro:300,300i,400,400i,700,700i\" rel='stylesheet' >\n",
       "<link href='https://fonts.googleapis.com/css?family=Source+Code+Pro:300,400' rel='stylesheet' >\n",
       "<style>\n",
       "\n",
       "@font-face {\n",
       "    font-family: \"Computer Modern\";\n",
       "    src: url('http://mirrors.ctan.org/fonts/cm-unicode/fonts/otf/cmunss.otf');\n",
       "}\n",
       "\n",
       "\n",
       "#notebook_panel { /* main background */\n",
       "    background: rgb(245,245,245);\n",
       "}\n",
       "\n",
       "div.cell { /* set cell width */\n",
       "    width: 800px;\n",
       "}\n",
       "\n",
       "div #notebook { /* centre the content */\n",
       "    background: #fff; /* white background for content */\n",
       "    width: 1000px;\n",
       "    margin: auto;\n",
       "    padding-left: 0em;\n",
       "}\n",
       "\n",
       "#notebook li { /* More space between bullet points */\n",
       "margin-top:0.5em;\n",
       "}\n",
       "\n",
       "/* draw border around running cells */\n",
       "div.cell.border-box-sizing.code_cell.running { \n",
       "    border: 1px solid #111;\n",
       "}\n",
       "\n",
       "/* Put a solid color box around each cell and its output, visually linking them*/\n",
       "div.cell.code_cell {\n",
       "    background-color: rgb(256,256,256); \n",
       "    border-radius: 0px; \n",
       "    padding: 0.5em;\n",
       "    margin-left:1em;\n",
       "    margin-top: 1em;\n",
       "}\n",
       "\n",
       "\n",
       "div.text_cell_render{\n",
       "    font-family: 'Source Sans Pro', sans-serif;\n",
       "    line-height: 140%;\n",
       "    font-size: 110%;\n",
       "    width:680px;\n",
       "    margin-left:auto;\n",
       "    margin-right:auto;\n",
       "}\n",
       "\n",
       "/* Formatting for header cells */\n",
       ".text_cell_render h1 {\n",
       "    font-family: 'Merriweather', serif;\n",
       "    font-style:regular;\n",
       "    font-weight: bold;    \n",
       "    font-size: 250%;\n",
       "    line-height: 100%;\n",
       "    color: #004065;\n",
       "    margin-bottom: 1em;\n",
       "    margin-top: 0.5em;\n",
       "    display: block;\n",
       "}\t\n",
       ".text_cell_render h2 {\n",
       "    font-family: 'Merriweather', serif;\n",
       "    font-weight: bold; \n",
       "    font-size: 180%;\n",
       "    line-height: 100%;\n",
       "    color: #0096d6;\n",
       "    margin-bottom: 0.5em;\n",
       "    margin-top: 0.5em;\n",
       "    display: block;\n",
       "}\t\n",
       "\n",
       ".text_cell_render h3 {\n",
       "    font-family: 'Merriweather', serif;\n",
       "\tfont-size: 150%;\n",
       "    margin-top:12px;\n",
       "    margin-bottom: 3px;\n",
       "    font-style: regular;\n",
       "    color: #008367;\n",
       "}\n",
       "\n",
       ".text_cell_render h4 {    /*Use this for captions*/\n",
       "    font-family: 'Merriweather', serif;\n",
       "    font-weight: 300; \n",
       "    font-size: 100%;\n",
       "    line-height: 120%;\n",
       "    text-align: left;\n",
       "    width:500px;\n",
       "    margin-top: 1em;\n",
       "    margin-bottom: 2em;\n",
       "    margin-left: 80pt;\n",
       "    font-style: regular;\n",
       "}\n",
       "\n",
       ".text_cell_render h5 {  /*Use this for small titles*/\n",
       "    font-family: 'Source Sans Pro', sans-serif;\n",
       "    font-weight: regular;\n",
       "    font-size: 130%;\n",
       "    color: #e31937;\n",
       "    font-style: italic;\n",
       "    margin-bottom: .5em;\n",
       "    margin-top: 1em;\n",
       "    display: block;\n",
       "}\n",
       "\n",
       ".text_cell_render h6 { /*use this for copyright note*/\n",
       "    font-family: 'Source Code Pro', sans-serif;\n",
       "    font-weight: 300;\n",
       "    font-size: 9pt;\n",
       "    line-height: 100%;\n",
       "    color: grey;\n",
       "    margin-bottom: 1px;\n",
       "    margin-top: 1px;\n",
       "}\n",
       "\n",
       "    .CodeMirror{\n",
       "            font-family: \"Source Code Pro\";\n",
       "\t\t\tfont-size: 90%;\n",
       "    }\n",
       "/*    .prompt{\n",
       "        display: None;\n",
       "    }*/\n",
       "\t\n",
       "    \n",
       "    .warning{\n",
       "        color: rgb( 240, 20, 20 )\n",
       "        }  \n",
       "</style>\n",
       "<script>\n",
       "    MathJax.Hub.Config({\n",
       "                        TeX: {\n",
       "                           extensions: [\"AMSmath.js\"], \n",
       "                           equationNumbers: { autoNumber: \"AMS\", useLabelIds: true}\n",
       "                           },\n",
       "                tex2jax: {\n",
       "                    inlineMath: [ ['$','$'], [\"\\\\(\",\"\\\\)\"] ],\n",
       "                    displayMath: [ ['$$','$$'], [\"\\\\[\",\"\\\\]\"] ]\n",
       "                },\n",
       "                displayAlign: 'center', // Change this to 'center' to center equations.\n",
       "                \"HTML-CSS\": {\n",
       "                    styles: {'.MathJax_Display': {\"margin\": 4}}\n",
       "                }\n",
       "        });\n",
       "</script>\n"
      ],
      "text/plain": [
       "<IPython.core.display.HTML object>"
      ]
     },
     "execution_count": 16,
     "metadata": {},
     "output_type": "execute_result"
    }
   ],
   "source": [
    "# Execute this cell to load the notebook's style sheet, then ignore it\n",
    "from IPython.core.display import HTML\n",
    "css_file = '../style/custom.css'\n",
    "HTML(open(css_file, \"r\").read())"
   ]
  }
 ],
 "metadata": {
  "kernelspec": {
   "display_name": "Python 3",
   "language": "python",
   "name": "python3"
  },
  "language_info": {
   "codemirror_mode": {
    "name": "ipython",
    "version": 3
   },
   "file_extension": ".py",
   "mimetype": "text/x-python",
   "name": "python",
   "nbconvert_exporter": "python",
   "pygments_lexer": "ipython3",
   "version": "3.8.5"
  }
 },
 "nbformat": 4,
 "nbformat_minor": 5
}
